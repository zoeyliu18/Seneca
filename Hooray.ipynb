{
  "nbformat": 4,
  "nbformat_minor": 0,
  "metadata": {
    "colab": {
      "name": "Hooray.ipynb",
      "provenance": []
    },
    "kernelspec": {
      "name": "python3",
      "display_name": "Python 3"
    },
    "language_info": {
      "name": "python"
    }
  },
  "cells": [
    {
      "cell_type": "code",
      "metadata": {
        "id": "zOpCfZyOraqO"
      },
      "source": [
        "from google.colab import drive\n",
        "drive.mount('/content/gdrive')#, force_remount=True)\n",
        "\n",
        "%cd /content/gdrive/MyDrive\n",
        "\n",
        "!pip install torch==1.6.0+cu101 torchvision==0.7.0+cu101 -f https://download.pytorch.org/whl/torch_stable.html\n",
        "\n",
        "!pip install OpenNMT-py"
      ],
      "execution_count": null,
      "outputs": []
    },
    {
      "cell_type": "code",
      "metadata": {
        "id": "KcwnWeHFrg31"
      },
      "source": [
        "### Training a morphological segmentation model ###\n",
        "\n",
        "!onmt_train -config with/config/robbie43B.yaml -gpu_ranks 0 -keep_checkpoint 1 -save_model seneca_robbie43B_with --seed 1234 -early_stopping 5000 -batch_size 16 -layers 2 -src_word_vec_size 300 -tgt_word_vec_size 300 -enc_rnn_size 100 -dec_rnn_size 100 —rnn_type GRU -optim adadelta -encoder_type brnn --train_steps 100000 -share_vocab -global_attention mlp\n"
      ],
      "execution_count": null,
      "outputs": []
    },
    {
      "cell_type": "code",
      "metadata": {
        "id": "8tGCcnNOrjiN"
      },
      "source": [
        "### Applying a morphological segmentation model ###\n",
        "\n",
        "!onmt_translate -model seneca_robbie43B_with_step_100000.pt -src with/robbie_test_src_43B -output with/robbie_test_pred_43B -gpu 0 --n_best 1"
      ],
      "execution_count": null,
      "outputs": []
    }
  ]
}